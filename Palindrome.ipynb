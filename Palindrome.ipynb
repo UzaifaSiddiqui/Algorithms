{
  "nbformat": 4,
  "nbformat_minor": 0,
  "metadata": {
    "colab": {
      "provenance": []
    },
    "kernelspec": {
      "name": "python3",
      "display_name": "Python 3"
    },
    "language_info": {
      "name": "python"
    }
  },
  "cells": [
    {
      "cell_type": "code",
      "execution_count": 16,
      "metadata": {
        "colab": {
          "base_uri": "https://localhost:8080/"
        },
        "id": "Y_6JnNmu08wu",
        "outputId": "35200083-1575-4950-ac23-efef6223206c"
      },
      "outputs": [
        {
          "output_type": "stream",
          "name": "stdout",
          "text": [
            "match\n"
          ]
        }
      ],
      "source": [
        "n = \"mom\"\n",
        "j = len(n) - 1\n",
        "for i in range(len(n)):\n",
        "  if n[i] == n[j]:\n",
        "    j-=1\n",
        "    if j < i:\n",
        "      print(\"match\")\n",
        "      break\n",
        "  elif n[i] != n[j]:\n",
        "    print(\"not a match\")\n",
        "    break"
      ]
    },
    {
      "cell_type": "code",
      "source": [],
      "metadata": {
        "id": "oIdXM3wcEcBt"
      },
      "execution_count": null,
      "outputs": []
    }
  ]
}