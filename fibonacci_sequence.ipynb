{
  "nbformat": 4,
  "nbformat_minor": 0,
  "metadata": {
    "colab": {
      "provenance": []
    },
    "kernelspec": {
      "name": "python3",
      "display_name": "Python 3"
    },
    "language_info": {
      "name": "python"
    }
  },
  "cells": [
    {
      "cell_type": "code",
      "execution_count": 6,
      "metadata": {
        "colab": {
          "base_uri": "https://localhost:8080/"
        },
        "id": "Y_6JnNmu08wu",
        "outputId": "48384d61-65fd-42c9-db2a-3c1f21eafe52"
      },
      "outputs": [
        {
          "output_type": "stream",
          "name": "stdout",
          "text": [
            "Enter the to which you want to print the fibonacci sequence : 6\n",
            "0\n",
            "1\n",
            "1\n",
            "2\n",
            "3\n",
            "5\n"
          ]
        }
      ],
      "source": [
        "n = int(input(\"Enter the to which you want to print the fibonacci sequence : \"))\n",
        "f = 0\n",
        "s = 1\n",
        "print(f)\n",
        "print(s)\n",
        "for i in range(n - 2):\n",
        "  nth = f+s\n",
        "  print(nth)\n",
        "  f = s\n",
        "  s = nth"
      ]
    },
    {
      "cell_type": "code",
      "source": [
        "0,1,1,2,3,5"
      ],
      "metadata": {
        "id": "oIdXM3wcEcBt"
      },
      "execution_count": null,
      "outputs": []
    }
  ]
}